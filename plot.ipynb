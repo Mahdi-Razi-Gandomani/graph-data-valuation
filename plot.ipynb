{
 "cells": [
  {
   "cell_type": "code",
   "execution_count": 12,
   "id": "9be955b2-39ce-4da9-8d1e-d866635dd1bd",
   "metadata": {},
   "outputs": [],
   "source": [
    "import pickle\n",
    "import matplotlib.pyplot as plt"
   ]
  },
  {
   "cell_type": "code",
   "execution_count": 6,
   "id": "6a44a49a",
   "metadata": {},
   "outputs": [],
   "source": [
    "dataset_name = 'WikiCS'\n",
    "group_trunc_ratio_hop_1 = 0.7\n",
    "group_trunc_ratio_hop_1v = 0.9\n",
    "# methods are win, random, degree\n",
    "method = 'random'\n",
    "node_type = 'unlabeled'\n",
    "counter = 3\n",
    "file_path = f'res/WikiCS/node_drop_large_{method}_{node_type}_{group_trunc_ratio_hop_1}_{group_trunc_ratio_hop_1v}_{counter}_{dataset_name}_test.pkl'\n",
    "with open(file_path, 'rb') as file:\n",
    "    data = pickle.load(file)\n"
   ]
  },
  {
   "cell_type": "code",
   "execution_count": null,
   "id": "a4b83b37-d2f7-42b9-8640-4789415c5f7a",
   "metadata": {},
   "outputs": [],
   "source": [
    "plt.figure(figsize=(8, 6))\n",
    "\n",
    "plt.plot(data, label=method)\n",
    "\n",
    "# Set the x and y axis labels with increased font size\n",
    "plt.xlabel('Number of Node Removed', fontsize=16)\n",
    "plt.ylabel('Prediction Accuracy (%)', fontsize=16)\n",
    "plt.title(dataset_name, fontsize=16)\n",
    "\n",
    "# Increase the size of the tick labels for both axes\n",
    "plt.xticks(fontsize=16)\n",
    "plt.yticks(fontsize=16)\n",
    "\n",
    "# Show legend\n",
    "plt.legend()\n",
    "\n",
    "# Displaying the plot\n",
    "plt.show()"
   ]
  }
 ],
 "metadata": {
  "kernelspec": {
   "display_name": "Python 3",
   "language": "python",
   "name": "python3"
  },
  "language_info": {
   "codemirror_mode": {
    "name": "ipython",
    "version": 3
   },
   "file_extension": ".py",
   "mimetype": "text/x-python",
   "name": "python",
   "nbconvert_exporter": "python",
   "pygments_lexer": "ipython3",
   "version": "3.10.4"
  }
 },
 "nbformat": 4,
 "nbformat_minor": 5
}
